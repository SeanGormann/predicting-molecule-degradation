{
 "cells": [
  {
   "cell_type": "markdown",
   "id": "f892cc16",
   "metadata": {},
   "source": [
    "# predicting-biodegradability-with-QSAR"
   ]
  },
  {
   "cell_type": "markdown",
   "id": "e42c5a9d",
   "metadata": {},
   "source": [
    "### EDA"
   ]
  },
  {
   "cell_type": "code",
   "execution_count": 96,
   "id": "f24e028f",
   "metadata": {},
   "outputs": [],
   "source": [
    "#importing libraries and dataset\n",
    "import pandas as pd\n",
    "import numpy as np\n",
    "import matplotlib.pyplot as plt"
   ]
  },
  {
   "cell_type": "code",
   "execution_count": 97,
   "id": "fa1412ee",
   "metadata": {},
   "outputs": [
    {
     "data": {
      "text/html": [
       "<div>\n",
       "<style scoped>\n",
       "    .dataframe tbody tr th:only-of-type {\n",
       "        vertical-align: middle;\n",
       "    }\n",
       "\n",
       "    .dataframe tbody tr th {\n",
       "        vertical-align: top;\n",
       "    }\n",
       "\n",
       "    .dataframe thead th {\n",
       "        text-align: right;\n",
       "    }\n",
       "</style>\n",
       "<table border=\"1\" class=\"dataframe\">\n",
       "  <thead>\n",
       "    <tr style=\"text-align: right;\">\n",
       "      <th></th>\n",
       "      <th>SpMax_L</th>\n",
       "      <th>J_Dz(e)</th>\n",
       "      <th>nHM</th>\n",
       "      <th>F01</th>\n",
       "      <th>F04</th>\n",
       "      <th>NssssC</th>\n",
       "      <th>nCb</th>\n",
       "      <th>C</th>\n",
       "      <th>nCp</th>\n",
       "      <th>nO</th>\n",
       "      <th>...</th>\n",
       "      <th>C_026</th>\n",
       "      <th>F02_CN</th>\n",
       "      <th>nHDon</th>\n",
       "      <th>SpMax_B</th>\n",
       "      <th>Psi_i_A</th>\n",
       "      <th>nN</th>\n",
       "      <th>SM6_B</th>\n",
       "      <th>nArCOOR</th>\n",
       "      <th>nX</th>\n",
       "      <th>Biodegradable</th>\n",
       "    </tr>\n",
       "  </thead>\n",
       "  <tbody>\n",
       "    <tr>\n",
       "      <th>0</th>\n",
       "      <td>3.919</td>\n",
       "      <td>2.6909</td>\n",
       "      <td>0.0</td>\n",
       "      <td>0.0</td>\n",
       "      <td>0.0</td>\n",
       "      <td>0.0</td>\n",
       "      <td>0.0</td>\n",
       "      <td>31.4</td>\n",
       "      <td>2.0</td>\n",
       "      <td>0.0</td>\n",
       "      <td>...</td>\n",
       "      <td>0.0</td>\n",
       "      <td>0.0</td>\n",
       "      <td>0.0</td>\n",
       "      <td>2.949</td>\n",
       "      <td>1.591</td>\n",
       "      <td>0.0</td>\n",
       "      <td>7.253</td>\n",
       "      <td>0.0</td>\n",
       "      <td>0.0</td>\n",
       "      <td>RB</td>\n",
       "    </tr>\n",
       "    <tr>\n",
       "      <th>1</th>\n",
       "      <td>4.170</td>\n",
       "      <td>2.1144</td>\n",
       "      <td>0.0</td>\n",
       "      <td>0.0</td>\n",
       "      <td>0.0</td>\n",
       "      <td>0.0</td>\n",
       "      <td>0.0</td>\n",
       "      <td>30.8</td>\n",
       "      <td>1.0</td>\n",
       "      <td>1.0</td>\n",
       "      <td>...</td>\n",
       "      <td>0.0</td>\n",
       "      <td>0.0</td>\n",
       "      <td>0.0</td>\n",
       "      <td>3.315</td>\n",
       "      <td>1.967</td>\n",
       "      <td>0.0</td>\n",
       "      <td>7.257</td>\n",
       "      <td>0.0</td>\n",
       "      <td>0.0</td>\n",
       "      <td>RB</td>\n",
       "    </tr>\n",
       "    <tr>\n",
       "      <th>2</th>\n",
       "      <td>3.932</td>\n",
       "      <td>3.2512</td>\n",
       "      <td>0.0</td>\n",
       "      <td>0.0</td>\n",
       "      <td>0.0</td>\n",
       "      <td>0.0</td>\n",
       "      <td>0.0</td>\n",
       "      <td>26.7</td>\n",
       "      <td>2.0</td>\n",
       "      <td>4.0</td>\n",
       "      <td>...</td>\n",
       "      <td>0.0</td>\n",
       "      <td>0.0</td>\n",
       "      <td>1.0</td>\n",
       "      <td>NaN</td>\n",
       "      <td>2.417</td>\n",
       "      <td>0.0</td>\n",
       "      <td>7.601</td>\n",
       "      <td>0.0</td>\n",
       "      <td>0.0</td>\n",
       "      <td>RB</td>\n",
       "    </tr>\n",
       "    <tr>\n",
       "      <th>3</th>\n",
       "      <td>3.000</td>\n",
       "      <td>2.7098</td>\n",
       "      <td>0.0</td>\n",
       "      <td>0.0</td>\n",
       "      <td>0.0</td>\n",
       "      <td>0.0</td>\n",
       "      <td>0.0</td>\n",
       "      <td>20.0</td>\n",
       "      <td>NaN</td>\n",
       "      <td>2.0</td>\n",
       "      <td>...</td>\n",
       "      <td>0.0</td>\n",
       "      <td>0.0</td>\n",
       "      <td>1.0</td>\n",
       "      <td>NaN</td>\n",
       "      <td>5.000</td>\n",
       "      <td>0.0</td>\n",
       "      <td>6.690</td>\n",
       "      <td>0.0</td>\n",
       "      <td>0.0</td>\n",
       "      <td>RB</td>\n",
       "    </tr>\n",
       "    <tr>\n",
       "      <th>4</th>\n",
       "      <td>4.236</td>\n",
       "      <td>3.3944</td>\n",
       "      <td>0.0</td>\n",
       "      <td>0.0</td>\n",
       "      <td>0.0</td>\n",
       "      <td>0.0</td>\n",
       "      <td>0.0</td>\n",
       "      <td>29.4</td>\n",
       "      <td>2.0</td>\n",
       "      <td>4.0</td>\n",
       "      <td>...</td>\n",
       "      <td>0.0</td>\n",
       "      <td>0.0</td>\n",
       "      <td>0.0</td>\n",
       "      <td>3.351</td>\n",
       "      <td>2.405</td>\n",
       "      <td>0.0</td>\n",
       "      <td>8.003</td>\n",
       "      <td>0.0</td>\n",
       "      <td>NaN</td>\n",
       "      <td>RB</td>\n",
       "    </tr>\n",
       "  </tbody>\n",
       "</table>\n",
       "<p>5 rows × 42 columns</p>\n",
       "</div>"
      ],
      "text/plain": [
       "   SpMax_L  J_Dz(e)  nHM  F01  F04  NssssC  nCb     C  nCp   nO  ...  C_026  \\\n",
       "0    3.919   2.6909  0.0  0.0  0.0     0.0  0.0  31.4  2.0  0.0  ...    0.0   \n",
       "1    4.170   2.1144  0.0  0.0  0.0     0.0  0.0  30.8  1.0  1.0  ...    0.0   \n",
       "2    3.932   3.2512  0.0  0.0  0.0     0.0  0.0  26.7  2.0  4.0  ...    0.0   \n",
       "3    3.000   2.7098  0.0  0.0  0.0     0.0  0.0  20.0  NaN  2.0  ...    0.0   \n",
       "4    4.236   3.3944  0.0  0.0  0.0     0.0  0.0  29.4  2.0  4.0  ...    0.0   \n",
       "\n",
       "   F02_CN  nHDon  SpMax_B  Psi_i_A   nN  SM6_B  nArCOOR   nX  Biodegradable  \n",
       "0     0.0    0.0    2.949    1.591  0.0  7.253      0.0  0.0             RB  \n",
       "1     0.0    0.0    3.315    1.967  0.0  7.257      0.0  0.0             RB  \n",
       "2     0.0    1.0      NaN    2.417  0.0  7.601      0.0  0.0             RB  \n",
       "3     0.0    1.0      NaN    5.000  0.0  6.690      0.0  0.0             RB  \n",
       "4     0.0    0.0    3.351    2.405  0.0  8.003      0.0  NaN             RB  \n",
       "\n",
       "[5 rows x 42 columns]"
      ]
     },
     "execution_count": 97,
     "metadata": {},
     "output_type": "execute_result"
    }
   ],
   "source": [
    "df = pd.read_csv('biodegradable_a.csv')\n",
    "df.head()"
   ]
  },
  {
   "cell_type": "code",
   "execution_count": 98,
   "id": "758484c2",
   "metadata": {
    "scrolled": true
   },
   "outputs": [
    {
     "name": "stdout",
     "output_type": "stream",
     "text": [
      "0 = RB, 1 = NRB\n",
      "# of  0 ---> 3825\n",
      "# of  1 ---> 739\n"
     ]
    }
   ],
   "source": [
    "## Checking number of readily biodegradable (RB) vs non-readily biodegradable (NRB)\n",
    "df.replace(['RB', 'NRB'], [0, 1], inplace=True)\n",
    "vals, counts= np.unique(df[\"Biodegradable\"], return_counts=True)\n",
    "print(\"0 = RB, 1 = NRB\")\n",
    "for v, c in zip(vals, counts):\n",
    "    print(\"# of \",v, \"--->\", c)"
   ]
  },
  {
   "cell_type": "code",
   "execution_count": 99,
   "id": "eaa3b145",
   "metadata": {
    "scrolled": true
   },
   "outputs": [
    {
     "name": "stdout",
     "output_type": "stream",
     "text": [
      "<class 'pandas.core.frame.DataFrame'>\n",
      "RangeIndex: 4564 entries, 0 to 4563\n",
      "Data columns (total 42 columns):\n",
      " #   Column         Non-Null Count  Dtype  \n",
      "---  ------         --------------  -----  \n",
      " 0   SpMax_L        4564 non-null   float64\n",
      " 1   J_Dz(e)        4564 non-null   float64\n",
      " 2   nHM            4564 non-null   float64\n",
      " 3   F01            4049 non-null   float64\n",
      " 4   F04            4564 non-null   float64\n",
      " 5   NssssC         4564 non-null   float64\n",
      " 6   nCb            4564 non-null   float64\n",
      " 7   C              3797 non-null   float64\n",
      " 8   nCp            3893 non-null   float64\n",
      " 9   nO             4564 non-null   float64\n",
      " 10  F03            4564 non-null   float64\n",
      " 11  SdssC          4564 non-null   float64\n",
      " 12  HyWi_B         4085 non-null   float64\n",
      " 13  LOC            4564 non-null   float64\n",
      " 14  SM6_L          4564 non-null   float64\n",
      " 15  F03_CO         4521 non-null   float64\n",
      " 16  Me             4116 non-null   float64\n",
      " 17  Mi             4564 non-null   float64\n",
      " 18  nN_N           4564 non-null   float64\n",
      " 19  nArNO2         4564 non-null   float64\n",
      " 20  nCRX3          4564 non-null   float64\n",
      " 21  SpPosA_B       4564 non-null   float64\n",
      " 22  nCIR           4074 non-null   float64\n",
      " 23  B01            4564 non-null   float64\n",
      " 24  B03            4564 non-null   float64\n",
      " 25  N_073          4564 non-null   float64\n",
      " 26  SpMax_A        3890 non-null   float64\n",
      " 27  Psi_i_1d       4564 non-null   float64\n",
      " 28  B04            4564 non-null   float64\n",
      " 29  SdO            4353 non-null   float64\n",
      " 30  TI2_L          4564 non-null   float64\n",
      " 31  nCrt           4306 non-null   float64\n",
      " 32  C_026          4564 non-null   float64\n",
      " 33  F02_CN         4564 non-null   float64\n",
      " 34  nHDon          4564 non-null   float64\n",
      " 35  SpMax_B        3206 non-null   float64\n",
      " 36  Psi_i_A        4104 non-null   float64\n",
      " 37  nN             4564 non-null   float64\n",
      " 38  SM6_B          4564 non-null   float64\n",
      " 39  nArCOOR        4564 non-null   float64\n",
      " 40  nX             3882 non-null   float64\n",
      " 41  Biodegradable  4564 non-null   int64  \n",
      "dtypes: float64(41), int64(1)\n",
      "memory usage: 1.5 MB\n"
     ]
    }
   ],
   "source": [
    "df.info()"
   ]
  },
  {
   "cell_type": "code",
   "execution_count": 100,
   "id": "925bd58b",
   "metadata": {
    "scrolled": true
   },
   "outputs": [
    {
     "data": {
      "text/html": [
       "<div>\n",
       "<style scoped>\n",
       "    .dataframe tbody tr th:only-of-type {\n",
       "        vertical-align: middle;\n",
       "    }\n",
       "\n",
       "    .dataframe tbody tr th {\n",
       "        vertical-align: top;\n",
       "    }\n",
       "\n",
       "    .dataframe thead th {\n",
       "        text-align: right;\n",
       "    }\n",
       "</style>\n",
       "<table border=\"1\" class=\"dataframe\">\n",
       "  <thead>\n",
       "    <tr style=\"text-align: right;\">\n",
       "      <th></th>\n",
       "      <th>SpMax_L</th>\n",
       "      <th>J_Dz(e)</th>\n",
       "      <th>nHM</th>\n",
       "      <th>F01</th>\n",
       "      <th>F04</th>\n",
       "      <th>NssssC</th>\n",
       "      <th>nCb</th>\n",
       "      <th>C</th>\n",
       "      <th>nCp</th>\n",
       "      <th>nO</th>\n",
       "      <th>...</th>\n",
       "      <th>C_026</th>\n",
       "      <th>F02_CN</th>\n",
       "      <th>nHDon</th>\n",
       "      <th>SpMax_B</th>\n",
       "      <th>Psi_i_A</th>\n",
       "      <th>nN</th>\n",
       "      <th>SM6_B</th>\n",
       "      <th>nArCOOR</th>\n",
       "      <th>nX</th>\n",
       "      <th>Biodegradable</th>\n",
       "    </tr>\n",
       "  </thead>\n",
       "  <tbody>\n",
       "    <tr>\n",
       "      <th>0</th>\n",
       "      <td>0</td>\n",
       "      <td>0</td>\n",
       "      <td>0</td>\n",
       "      <td>515</td>\n",
       "      <td>0</td>\n",
       "      <td>0</td>\n",
       "      <td>0</td>\n",
       "      <td>767</td>\n",
       "      <td>671</td>\n",
       "      <td>0</td>\n",
       "      <td>...</td>\n",
       "      <td>0</td>\n",
       "      <td>0</td>\n",
       "      <td>0</td>\n",
       "      <td>1358</td>\n",
       "      <td>460</td>\n",
       "      <td>0</td>\n",
       "      <td>0</td>\n",
       "      <td>0</td>\n",
       "      <td>682</td>\n",
       "      <td>0</td>\n",
       "    </tr>\n",
       "  </tbody>\n",
       "</table>\n",
       "<p>1 rows × 42 columns</p>\n",
       "</div>"
      ],
      "text/plain": [
       "   SpMax_L  J_Dz(e)  nHM  F01  F04  NssssC  nCb    C  nCp  nO  ...  C_026  \\\n",
       "0        0        0    0  515    0       0    0  767  671   0  ...      0   \n",
       "\n",
       "   F02_CN  nHDon  SpMax_B  Psi_i_A  nN  SM6_B  nArCOOR   nX  Biodegradable  \n",
       "0       0      0     1358      460   0      0        0  682              0  \n",
       "\n",
       "[1 rows x 42 columns]"
      ]
     },
     "execution_count": 100,
     "metadata": {},
     "output_type": "execute_result"
    }
   ],
   "source": [
    "pd.DataFrame(df.isna().sum()).transpose()"
   ]
  },
  {
   "cell_type": "code",
   "execution_count": 101,
   "id": "f9852ec0",
   "metadata": {
    "scrolled": true
   },
   "outputs": [],
   "source": [
    "#check for correlation\n",
    "df_biodegradable_vars = df.loc[:,df.columns != 'Biodegradable']\n",
    "df_biodegradable_y = df['Biodegradable']\n",
    "\n",
    "df_biodegradable_corr = pd.concat([df_biodegradable_y, df_biodegradable_vars], axis=1)\n",
    "corr = df_biodegradable_corr.corr()\n",
    "corr_to_biodegradable = corr['Biodegradable'].sort_values(ascending=False)"
   ]
  },
  {
   "cell_type": "code",
   "execution_count": 102,
   "id": "77026dea",
   "metadata": {
    "scrolled": true
   },
   "outputs": [
    {
     "name": "stdout",
     "output_type": "stream",
     "text": [
      "Biodegradable    1.000000\n",
      "nHM              0.466120\n",
      "F02_CN           0.428333\n",
      "C_026            0.427643\n",
      "SM6_B            0.401354\n",
      "F03              0.400053\n",
      "B03              0.393854\n",
      "nCb              0.390673\n",
      "nN               0.390646\n",
      "F04              0.384562\n",
      "Name: Biodegradable, dtype: float64\n"
     ]
    }
   ],
   "source": [
    "print(corr_to_biodegradable.head(10))"
   ]
  },
  {
   "cell_type": "code",
   "execution_count": 103,
   "id": "5ee55ac3",
   "metadata": {},
   "outputs": [
    {
     "data": {
      "text/html": [
       "<div>\n",
       "<style scoped>\n",
       "    .dataframe tbody tr th:only-of-type {\n",
       "        vertical-align: middle;\n",
       "    }\n",
       "\n",
       "    .dataframe tbody tr th {\n",
       "        vertical-align: top;\n",
       "    }\n",
       "\n",
       "    .dataframe thead th {\n",
       "        text-align: right;\n",
       "    }\n",
       "</style>\n",
       "<table border=\"1\" class=\"dataframe\">\n",
       "  <thead>\n",
       "    <tr style=\"text-align: right;\">\n",
       "      <th></th>\n",
       "      <th>SpMax_L</th>\n",
       "      <th>J_Dz(e)</th>\n",
       "      <th>nHM</th>\n",
       "      <th>F01</th>\n",
       "      <th>F04</th>\n",
       "      <th>NssssC</th>\n",
       "      <th>nCb</th>\n",
       "      <th>C</th>\n",
       "      <th>nCp</th>\n",
       "      <th>nO</th>\n",
       "      <th>...</th>\n",
       "      <th>nCrt</th>\n",
       "      <th>C_026</th>\n",
       "      <th>F02_CN</th>\n",
       "      <th>nHDon</th>\n",
       "      <th>SpMax_B</th>\n",
       "      <th>Psi_i_A</th>\n",
       "      <th>nN</th>\n",
       "      <th>SM6_B</th>\n",
       "      <th>nArCOOR</th>\n",
       "      <th>nX</th>\n",
       "    </tr>\n",
       "  </thead>\n",
       "  <tbody>\n",
       "    <tr>\n",
       "      <th>count</th>\n",
       "      <td>4564.000000</td>\n",
       "      <td>4564.000000</td>\n",
       "      <td>4564.000000</td>\n",
       "      <td>4049.000000</td>\n",
       "      <td>4564.000000</td>\n",
       "      <td>4564.000000</td>\n",
       "      <td>4564.000000</td>\n",
       "      <td>3797.000000</td>\n",
       "      <td>3893.000000</td>\n",
       "      <td>4564.000000</td>\n",
       "      <td>...</td>\n",
       "      <td>4306.000000</td>\n",
       "      <td>4564.000000</td>\n",
       "      <td>4564.000000</td>\n",
       "      <td>4564.000000</td>\n",
       "      <td>3206.000000</td>\n",
       "      <td>4104.000000</td>\n",
       "      <td>4564.000000</td>\n",
       "      <td>4564.000000</td>\n",
       "      <td>4564.000000</td>\n",
       "      <td>3882.000000</td>\n",
       "    </tr>\n",
       "    <tr>\n",
       "      <th>mean</th>\n",
       "      <td>4.553679</td>\n",
       "      <td>3.103605</td>\n",
       "      <td>0.180762</td>\n",
       "      <td>0.010373</td>\n",
       "      <td>0.264680</td>\n",
       "      <td>0.069676</td>\n",
       "      <td>0.886503</td>\n",
       "      <td>35.100603</td>\n",
       "      <td>1.225790</td>\n",
       "      <td>2.048642</td>\n",
       "      <td>...</td>\n",
       "      <td>0.031584</td>\n",
       "      <td>0.332603</td>\n",
       "      <td>0.415644</td>\n",
       "      <td>0.777388</td>\n",
       "      <td>3.594392</td>\n",
       "      <td>2.633800</td>\n",
       "      <td>0.267090</td>\n",
       "      <td>8.133804</td>\n",
       "      <td>0.091805</td>\n",
       "      <td>0.170273</td>\n",
       "    </tr>\n",
       "    <tr>\n",
       "      <th>std</th>\n",
       "      <td>0.480677</td>\n",
       "      <td>0.618921</td>\n",
       "      <td>0.775172</td>\n",
       "      <td>0.127266</td>\n",
       "      <td>1.219524</td>\n",
       "      <td>0.541474</td>\n",
       "      <td>1.429565</td>\n",
       "      <td>8.287902</td>\n",
       "      <td>1.333277</td>\n",
       "      <td>1.509354</td>\n",
       "      <td>...</td>\n",
       "      <td>0.323204</td>\n",
       "      <td>0.903048</td>\n",
       "      <td>1.296882</td>\n",
       "      <td>1.160364</td>\n",
       "      <td>0.588620</td>\n",
       "      <td>0.615330</td>\n",
       "      <td>0.683133</td>\n",
       "      <td>0.897383</td>\n",
       "      <td>0.415705</td>\n",
       "      <td>1.151995</td>\n",
       "    </tr>\n",
       "    <tr>\n",
       "      <th>min</th>\n",
       "      <td>2.000000</td>\n",
       "      <td>0.803900</td>\n",
       "      <td>0.000000</td>\n",
       "      <td>0.000000</td>\n",
       "      <td>0.000000</td>\n",
       "      <td>0.000000</td>\n",
       "      <td>0.000000</td>\n",
       "      <td>0.000000</td>\n",
       "      <td>0.000000</td>\n",
       "      <td>0.000000</td>\n",
       "      <td>...</td>\n",
       "      <td>0.000000</td>\n",
       "      <td>0.000000</td>\n",
       "      <td>0.000000</td>\n",
       "      <td>0.000000</td>\n",
       "      <td>2.267000</td>\n",
       "      <td>1.467000</td>\n",
       "      <td>0.000000</td>\n",
       "      <td>4.917000</td>\n",
       "      <td>0.000000</td>\n",
       "      <td>0.000000</td>\n",
       "    </tr>\n",
       "    <tr>\n",
       "      <th>25%</th>\n",
       "      <td>4.297888</td>\n",
       "      <td>2.736054</td>\n",
       "      <td>0.000000</td>\n",
       "      <td>0.000000</td>\n",
       "      <td>0.000000</td>\n",
       "      <td>0.000000</td>\n",
       "      <td>0.000000</td>\n",
       "      <td>30.000000</td>\n",
       "      <td>0.000000</td>\n",
       "      <td>1.000000</td>\n",
       "      <td>...</td>\n",
       "      <td>0.000000</td>\n",
       "      <td>0.000000</td>\n",
       "      <td>0.000000</td>\n",
       "      <td>0.000000</td>\n",
       "      <td>3.361406</td>\n",
       "      <td>2.188000</td>\n",
       "      <td>0.000000</td>\n",
       "      <td>7.700582</td>\n",
       "      <td>0.000000</td>\n",
       "      <td>0.000000</td>\n",
       "    </tr>\n",
       "    <tr>\n",
       "      <th>50%</th>\n",
       "      <td>4.579039</td>\n",
       "      <td>3.078901</td>\n",
       "      <td>0.000000</td>\n",
       "      <td>0.000000</td>\n",
       "      <td>0.000000</td>\n",
       "      <td>0.000000</td>\n",
       "      <td>0.000000</td>\n",
       "      <td>33.300000</td>\n",
       "      <td>1.000000</td>\n",
       "      <td>2.000000</td>\n",
       "      <td>...</td>\n",
       "      <td>0.000000</td>\n",
       "      <td>0.000000</td>\n",
       "      <td>0.000000</td>\n",
       "      <td>0.000000</td>\n",
       "      <td>3.529299</td>\n",
       "      <td>2.565157</td>\n",
       "      <td>0.000000</td>\n",
       "      <td>8.090426</td>\n",
       "      <td>0.000000</td>\n",
       "      <td>0.000000</td>\n",
       "    </tr>\n",
       "    <tr>\n",
       "      <th>75%</th>\n",
       "      <td>4.869022</td>\n",
       "      <td>3.417500</td>\n",
       "      <td>0.000000</td>\n",
       "      <td>0.000000</td>\n",
       "      <td>0.000000</td>\n",
       "      <td>0.000000</td>\n",
       "      <td>2.000000</td>\n",
       "      <td>41.362696</td>\n",
       "      <td>2.000000</td>\n",
       "      <td>3.000000</td>\n",
       "      <td>...</td>\n",
       "      <td>0.000000</td>\n",
       "      <td>0.000000</td>\n",
       "      <td>0.000000</td>\n",
       "      <td>1.000000</td>\n",
       "      <td>3.732744</td>\n",
       "      <td>2.952000</td>\n",
       "      <td>0.000000</td>\n",
       "      <td>8.560427</td>\n",
       "      <td>0.000000</td>\n",
       "      <td>0.000000</td>\n",
       "    </tr>\n",
       "    <tr>\n",
       "      <th>max</th>\n",
       "      <td>6.496000</td>\n",
       "      <td>9.177500</td>\n",
       "      <td>12.000000</td>\n",
       "      <td>3.000000</td>\n",
       "      <td>36.000000</td>\n",
       "      <td>13.000000</td>\n",
       "      <td>18.000000</td>\n",
       "      <td>60.700000</td>\n",
       "      <td>24.000000</td>\n",
       "      <td>12.000000</td>\n",
       "      <td>...</td>\n",
       "      <td>8.000000</td>\n",
       "      <td>12.000000</td>\n",
       "      <td>18.000000</td>\n",
       "      <td>7.000000</td>\n",
       "      <td>10.428000</td>\n",
       "      <td>5.825000</td>\n",
       "      <td>8.000000</td>\n",
       "      <td>14.700000</td>\n",
       "      <td>4.000000</td>\n",
       "      <td>27.000000</td>\n",
       "    </tr>\n",
       "  </tbody>\n",
       "</table>\n",
       "<p>8 rows × 41 columns</p>\n",
       "</div>"
      ],
      "text/plain": [
       "           SpMax_L      J_Dz(e)          nHM          F01          F04  \\\n",
       "count  4564.000000  4564.000000  4564.000000  4049.000000  4564.000000   \n",
       "mean      4.553679     3.103605     0.180762     0.010373     0.264680   \n",
       "std       0.480677     0.618921     0.775172     0.127266     1.219524   \n",
       "min       2.000000     0.803900     0.000000     0.000000     0.000000   \n",
       "25%       4.297888     2.736054     0.000000     0.000000     0.000000   \n",
       "50%       4.579039     3.078901     0.000000     0.000000     0.000000   \n",
       "75%       4.869022     3.417500     0.000000     0.000000     0.000000   \n",
       "max       6.496000     9.177500    12.000000     3.000000    36.000000   \n",
       "\n",
       "            NssssC          nCb            C          nCp           nO  ...  \\\n",
       "count  4564.000000  4564.000000  3797.000000  3893.000000  4564.000000  ...   \n",
       "mean      0.069676     0.886503    35.100603     1.225790     2.048642  ...   \n",
       "std       0.541474     1.429565     8.287902     1.333277     1.509354  ...   \n",
       "min       0.000000     0.000000     0.000000     0.000000     0.000000  ...   \n",
       "25%       0.000000     0.000000    30.000000     0.000000     1.000000  ...   \n",
       "50%       0.000000     0.000000    33.300000     1.000000     2.000000  ...   \n",
       "75%       0.000000     2.000000    41.362696     2.000000     3.000000  ...   \n",
       "max      13.000000    18.000000    60.700000    24.000000    12.000000  ...   \n",
       "\n",
       "              nCrt        C_026       F02_CN        nHDon      SpMax_B  \\\n",
       "count  4306.000000  4564.000000  4564.000000  4564.000000  3206.000000   \n",
       "mean      0.031584     0.332603     0.415644     0.777388     3.594392   \n",
       "std       0.323204     0.903048     1.296882     1.160364     0.588620   \n",
       "min       0.000000     0.000000     0.000000     0.000000     2.267000   \n",
       "25%       0.000000     0.000000     0.000000     0.000000     3.361406   \n",
       "50%       0.000000     0.000000     0.000000     0.000000     3.529299   \n",
       "75%       0.000000     0.000000     0.000000     1.000000     3.732744   \n",
       "max       8.000000    12.000000    18.000000     7.000000    10.428000   \n",
       "\n",
       "           Psi_i_A           nN        SM6_B      nArCOOR           nX  \n",
       "count  4104.000000  4564.000000  4564.000000  4564.000000  3882.000000  \n",
       "mean      2.633800     0.267090     8.133804     0.091805     0.170273  \n",
       "std       0.615330     0.683133     0.897383     0.415705     1.151995  \n",
       "min       1.467000     0.000000     4.917000     0.000000     0.000000  \n",
       "25%       2.188000     0.000000     7.700582     0.000000     0.000000  \n",
       "50%       2.565157     0.000000     8.090426     0.000000     0.000000  \n",
       "75%       2.952000     0.000000     8.560427     0.000000     0.000000  \n",
       "max       5.825000     8.000000    14.700000     4.000000    27.000000  \n",
       "\n",
       "[8 rows x 41 columns]"
      ]
     },
     "execution_count": 103,
     "metadata": {},
     "output_type": "execute_result"
    }
   ],
   "source": [
    "df_biodegradable_vars.describe()"
   ]
  },
  {
   "cell_type": "code",
   "execution_count": 104,
   "id": "cc6233bc",
   "metadata": {},
   "outputs": [
    {
     "data": {
      "image/png": "[encoded data removed]",
      "text/plain": [
       "<Figure size 1440x1080 with 42 Axes>"
      ]
     },
     "metadata": {
      "needs_background": "light"
     },
     "output_type": "display_data"
    }
   ],
   "source": [
    "%matplotlib inline\n",
    "df_biodegradable_vars.hist(bins=50, figsize=(20,15))\n",
    "plt.show()"
   ]
  },
  {
   "cell_type": "markdown",
   "id": "bb47d1d0",
   "metadata": {},
   "source": [
    "### Preprocessing the data:"
   ]
  },
  {
   "cell_type": "code",
   "execution_count": 105,
   "id": "84ebcff0",
   "metadata": {
    "scrolled": false
   },
   "outputs": [
    {
     "name": "stderr",
     "output_type": "stream",
     "text": [
      "/Users/seangorman/opt/anaconda3/lib/python3.9/site-packages/pandas/core/frame.py:4906: SettingWithCopyWarning: \n",
      "A value is trying to be set on a copy of a slice from a DataFrame\n",
      "\n",
      "See the caveats in the documentation: https://pandas.pydata.org/pandas-docs/stable/user_guide/indexing.html#returning-a-view-versus-a-copy\n",
      "  return super().drop(\n"
     ]
    }
   ],
   "source": [
    "#Dropping columns with more than significant amount of missing values \n",
    "df_biodegradable_vars.drop('SpMax_B', axis=1, inplace=True)\n",
    "df_biodegradable_vars.drop('C', axis=1, inplace=True)\n",
    "df_biodegradable_vars.drop('nCp', axis=1, inplace=True)"
   ]
  },
  {
   "cell_type": "code",
   "execution_count": 106,
   "id": "3aee1bcd",
   "metadata": {},
   "outputs": [
    {
     "name": "stdout",
     "output_type": "stream",
     "text": [
      "2846\n"
     ]
    }
   ],
   "source": [
    "print(df_biodegradable_vars.isna().any(axis=1).sum())"
   ]
  },
  {
   "cell_type": "code",
   "execution_count": 107,
   "id": "d9896e16",
   "metadata": {
    "scrolled": true
   },
   "outputs": [],
   "source": [
    "## Impute missing data and then normalise\n",
    "from sklearn.pipeline import Pipeline\n",
    "from sklearn.preprocessing import StandardScaler\n",
    "from sklearn.impute import SimpleImputer\n",
    "\n",
    "trans_pipeline = Pipeline([\n",
    "    ('simp_imputer', SimpleImputer(strategy=\"median\")),\n",
    "    ('std_scaler', StandardScaler()),\n",
    "])\n",
    "\n",
    "features_transformed = trans_pipeline.fit_transform(df_biodegradable_vars)   #returns a transformed np array ready to be split"
   ]
  },
  {
   "cell_type": "code",
   "execution_count": 108,
   "id": "cce81557",
   "metadata": {},
   "outputs": [],
   "source": [
    "pd.DataFrame(features_transformed).head()\n",
    "y = df_biodegradable_y.to_numpy()"
   ]
  },
  {
   "cell_type": "code",
   "execution_count": 109,
   "id": "4afaa96c",
   "metadata": {},
   "outputs": [
    {
     "name": "stdout",
     "output_type": "stream",
     "text": [
      "0\n"
     ]
    }
   ],
   "source": [
    "print(pd.DataFrame(features_transformed).isna().any(axis=1).sum())"
   ]
  },
  {
   "cell_type": "markdown",
   "id": "1e1fced1",
   "metadata": {},
   "source": [
    "### Determining Feature Importances"
   ]
  },
  {
   "cell_type": "code",
   "execution_count": 110,
   "id": "ec8bd07b",
   "metadata": {
    "scrolled": true
   },
   "outputs": [
    {
     "data": {
      "image/png": "[encoded data removed]",
      "text/plain": [
       "<Figure size 432x288 with 1 Axes>"
      ]
     },
     "metadata": {},
     "output_type": "display_data"
    },
    {
     "data": {
      "text/plain": [
       "<Figure size 15000x12000 with 0 Axes>"
      ]
     },
     "metadata": {},
     "output_type": "display_data"
    }
   ],
   "source": [
    "import seaborn as sns\n",
    "rfx=RandomForestClassifier()\n",
    "rfx.fit(features_transformed, y)\n",
    "\n",
    "# Calculate feature importance in random forest\n",
    "importances = rfx.feature_importances_\n",
    "labels = df_biodegradable_vars.columns\n",
    "feature_df = pd.DataFrame(list(zip(labels, importances)), columns = [\"feature\",\"importance\"]).head(10)\n",
    "feature_df = feature_df.sort_values(by='importance', ascending=False,)\n",
    "\n",
    "# image formatting\n",
    "axis_fs = 18 #fontsize\n",
    "title_fs = 22 #fontsize\n",
    "sns.set(style=\"whitegrid\")\n",
    "\n",
    "ax = sns.barplot(x=\"importance\", y=\"feature\", data=feature_df)\n",
    "ax.set_xlabel('Importance',fontsize = axis_fs) \n",
    "ax.set_ylabel('Feature', fontsize = axis_fs)#ylabel\n",
    "ax.set_title('Random forest\\nfeature importance', fontsize = title_fs)\n",
    "\n",
    "plt.figure(figsize=(50, 40), dpi=300)\n",
    "plt.tight_layout()\n",
    "#plt.savefig(\"feature_importance.png\",dpi=120) \n",
    "plt.show()\n",
    "\n"
   ]
  },
  {
   "cell_type": "code",
   "execution_count": 111,
   "id": "19427d87",
   "metadata": {},
   "outputs": [],
   "source": [
    "imortances = feature_df"
   ]
  },
  {
   "cell_type": "markdown",
   "id": "08d5bfae",
   "metadata": {},
   "source": [
    "### Splitting Data "
   ]
  },
  {
   "cell_type": "code",
   "execution_count": 112,
   "id": "d80c0959",
   "metadata": {
    "scrolled": true
   },
   "outputs": [],
   "source": [
    "from sklearn.model_selection import StratifiedShuffleSplit\n",
    "from sklearn.metrics import f1_score, confusion_matrix,matthews_corrcoef, precision_score, recall_score\n",
    "\n",
    "# create a stratified shuffle split object with a test size of 0.25\n",
    "stratified_split = StratifiedShuffleSplit(n_splits=1, test_size=0.25)\n",
    "y = df_biodegradable_y.to_numpy()\n",
    "\n",
    "# split the dataset into training and test sets\n",
    "for train_index, test_index in stratified_split.split(features_transformed, y):\n",
    "    X_train, X_test = features_transformed[train_index], features_transformed[test_index]\n",
    "    y_train, y_test = y[train_index], y[test_index]"
   ]
  },
  {
   "cell_type": "code",
   "execution_count": 113,
   "id": "68e1649b",
   "metadata": {},
   "outputs": [],
   "source": [
    "from sklearn.metrics import precision_score, recall_score, f1_score, matthews_corrcoef, confusion_matrix, classification_report\n",
    "from sklearn.model_selection import cross_val_score\n",
    "\n",
    "def ClassStatistics(truth, preds):\n",
    "    print(classification_report(truth, preds))\n",
    "    print(\"MCC:\", matthews_corrcoef(truth, preds))"
   ]
  },
  {
   "cell_type": "markdown",
   "id": "5a53cffb",
   "metadata": {},
   "source": [
    "### Training and optimizing models:"
   ]
  },
  {
   "cell_type": "code",
   "execution_count": 114,
   "id": "b12d0a5f",
   "metadata": {},
   "outputs": [],
   "source": [
    "#XGBoost Classifier\n",
    "from xgboost import XGBClassifier\n",
    "from sklearn.model_selection import RandomizedSearchCV, GridSearchCV\n",
    "\n",
    "params = {\n",
    "    \"learning_rate\" : np.linspace(0.05, 0.4, 5),\n",
    "    \"max_depth\" : [i for i in range(4, 20, 5)],\n",
    "    \"min_child_weight\" : np.linspace(1, 8, 5),\n",
    "    \"gamma\" : np.linspace(0.00, 0.4, 5),\n",
    "    \"n_estimators\" : [i for i in range(5, 25, 5)],\n",
    "    \"colsample_bytree\" : np.linspace(0.1, 0.8, 5),\n",
    "}\n",
    "\n",
    "\n",
    "boost = XGBClassifier()\n",
    "\n",
    "random_search = RandomizedSearchCV(boost, param_distributions = params, n_iter = 5, scoring = \"f1\", cv = 5)\n",
    "\n",
    "random_search.fit(X_train, y_train)\n",
    "\n",
    "tuned_boost = random_search.best_estimator_     ## tuned XGBoost classifier \n"
   ]
  },
  {
   "cell_type": "code",
   "execution_count": 115,
   "id": "b1c9f9d9",
   "metadata": {
    "scrolled": false
   },
   "outputs": [],
   "source": [
    "#grid_search = GridSearchCV(boost, params, scoring = \"roc_auc\", cv = 5, verbose =3)\n",
    "#grid_search.fit(X_train, y_train)\n",
    "#grid_search.best_estimator_"
   ]
  },
  {
   "cell_type": "code",
   "execution_count": 116,
   "id": "382475ec",
   "metadata": {},
   "outputs": [
    {
     "name": "stdout",
     "output_type": "stream",
     "text": [
      "\n"
     ]
    }
   ],
   "source": [
    "#These were the parameters saved from the gridsearch. I copied them in to this cell to save us from running it again\n",
    "#as the search took well over 15 minutes. \n",
    "\n",
    "#Added regularization (reg_alpha) to prevent overfitting \n",
    "gridtuned_boost = XGBClassifier(base_score=0.5, booster='gbtree', callbacks=None,\n",
    "                              colsample_bylevel=1, colsample_bynode=1,\n",
    "                              colsample_bytree=0.45000000000000007, early_stopping_rounds=None,\n",
    "                              enable_categorical=False, eval_metric=None, feature_types=None,\n",
    "                              gamma=0.0, gpu_id=-1, grow_policy='depthwise',\n",
    "                              importance_type=None, interaction_constraints='',\n",
    "                              learning_rate=0.3125, max_bin=256, max_cat_threshold=64,\n",
    "                              max_cat_to_onehot=4, max_delta_step=0, max_depth=9, max_leaves=0,\n",
    "                              min_child_weight=1.0, monotone_constraints='()',\n",
    "                              n_estimators=20, n_jobs=0, num_parallel_tree=1, predictor='auto',\n",
    "                              random_state=0,reg_alpha = 0.5)\n",
    "\n",
    "gridtuned_boost.fit(X_train,y_train)\n",
    "print()"
   ]
  },
  {
   "cell_type": "code",
   "execution_count": 117,
   "id": "bf5473c5",
   "metadata": {},
   "outputs": [],
   "source": [
    "##Random Forest Classifier\n",
    "\n",
    "params = {\n",
    "    \"max_depth\" : [i for i in range(4, 20, 5)],\n",
    "    \"n_estimators\" : [i for i in range(5, 25, 5)],\n",
    "}\n",
    "\n",
    "\n",
    "rfc = RandomForestClassifier()\n",
    "\n",
    "random_search = RandomizedSearchCV(rfc, param_distributions = params, n_iter = 5, scoring = \"f1\", cv = 5)\n",
    "random_search.fit(X_train, y_train)\n",
    "\n",
    "tuned_rfc = random_search.best_estimator_"
   ]
  },
  {
   "cell_type": "code",
   "execution_count": 118,
   "id": "3d063cf8",
   "metadata": {},
   "outputs": [
    {
     "name": "stdout",
     "output_type": "stream",
     "text": [
      "RS_XGBoost: 0.9684479446792164\n",
      "GS_XGBoost: 0.9658193537371409\n",
      "Random_Forest: 0.96552780979212\n"
     ]
    }
   ],
   "source": [
    "mdl_list = [tuned_boost, gridtuned_boost, tuned_rfc]\n",
    "name = [\"RS_XGBoost\", \"GS_XGBoost\", \"Random_Forest\"]\n",
    "idx=0\n",
    "\n",
    "for i in mdl_list:\n",
    "    scores = cross_val_score(i, X_train, y_train)\n",
    "    print(name[idx] + \": \" + str(np.mean(scores)))\n",
    "    idx += 1"
   ]
  },
  {
   "cell_type": "markdown",
   "id": "eac4fbef",
   "metadata": {},
   "source": [
    "### Selecting Model & Evaluating Performance"
   ]
  },
  {
   "cell_type": "code",
   "execution_count": 123,
   "id": "00072526",
   "metadata": {
    "scrolled": true
   },
   "outputs": [],
   "source": [
    "#Raandom Forst was ultimately selected\n",
    "preds = tuned_rfc.predict(X_test)"
   ]
  },
  {
   "cell_type": "code",
   "execution_count": 124,
   "id": "dcc00148",
   "metadata": {},
   "outputs": [],
   "source": [
    "#Present Final Stats\n",
    "final_stats = classification_report(y_test, preds, output_dict=True)\n",
    "final_stats = pd.DataFrame(final_stats)\n",
    "final_stats.columns = ['RB', 'NRB', 'accuracy', 'macro avg', 'weighted avg']\n",
    "final_stats = final_stats.T"
   ]
  },
  {
   "cell_type": "code",
   "execution_count": 125,
   "id": "15ca1511",
   "metadata": {},
   "outputs": [
    {
     "data": {
      "text/html": [
       "<div>\n",
       "<style scoped>\n",
       "    .dataframe tbody tr th:only-of-type {\n",
       "        vertical-align: middle;\n",
       "    }\n",
       "\n",
       "    .dataframe tbody tr th {\n",
       "        vertical-align: top;\n",
       "    }\n",
       "\n",
       "    .dataframe thead th {\n",
       "        text-align: right;\n",
       "    }\n",
       "</style>\n",
       "<table border=\"1\" class=\"dataframe\">\n",
       "  <thead>\n",
       "    <tr style=\"text-align: right;\">\n",
       "      <th></th>\n",
       "      <th>precision</th>\n",
       "      <th>recall</th>\n",
       "      <th>f1-score</th>\n",
       "      <th>support</th>\n",
       "    </tr>\n",
       "  </thead>\n",
       "  <tbody>\n",
       "    <tr>\n",
       "      <th>RB</th>\n",
       "      <td>0.972079</td>\n",
       "      <td>0.983264</td>\n",
       "      <td>0.977639</td>\n",
       "      <td>956.000000</td>\n",
       "    </tr>\n",
       "    <tr>\n",
       "      <th>NRB</th>\n",
       "      <td>0.908046</td>\n",
       "      <td>0.854054</td>\n",
       "      <td>0.880223</td>\n",
       "      <td>185.000000</td>\n",
       "    </tr>\n",
       "    <tr>\n",
       "      <th>accuracy</th>\n",
       "      <td>0.962314</td>\n",
       "      <td>0.962314</td>\n",
       "      <td>0.962314</td>\n",
       "      <td>0.962314</td>\n",
       "    </tr>\n",
       "    <tr>\n",
       "      <th>macro avg</th>\n",
       "      <td>0.940062</td>\n",
       "      <td>0.918659</td>\n",
       "      <td>0.928931</td>\n",
       "      <td>1141.000000</td>\n",
       "    </tr>\n",
       "    <tr>\n",
       "      <th>weighted avg</th>\n",
       "      <td>0.961696</td>\n",
       "      <td>0.962314</td>\n",
       "      <td>0.961844</td>\n",
       "      <td>1141.000000</td>\n",
       "    </tr>\n",
       "  </tbody>\n",
       "</table>\n",
       "</div>"
      ],
      "text/plain": [
       "              precision    recall  f1-score      support\n",
       "RB             0.972079  0.983264  0.977639   956.000000\n",
       "NRB            0.908046  0.854054  0.880223   185.000000\n",
       "accuracy       0.962314  0.962314  0.962314     0.962314\n",
       "macro avg      0.940062  0.918659  0.928931  1141.000000\n",
       "weighted avg   0.961696  0.962314  0.961844  1141.000000"
      ]
     },
     "execution_count": 125,
     "metadata": {},
     "output_type": "execute_result"
    }
   ],
   "source": [
    "#Transpose the dataframe conf\n",
    "final_stats"
   ]
  },
  {
   "cell_type": "code",
   "execution_count": 126,
   "id": "e4291eb2",
   "metadata": {},
   "outputs": [],
   "source": [
    "final_MCC = \"MCC: {}\".format(matthews_corrcoef(y_test, preds))"
   ]
  },
  {
   "cell_type": "code",
   "execution_count": 127,
   "id": "7f223bc0",
   "metadata": {},
   "outputs": [
    {
     "data": {
      "text/plain": [
       "'MCC: 0.8584543314918028'"
      ]
     },
     "execution_count": 127,
     "metadata": {},
     "output_type": "execute_result"
    }
   ],
   "source": [
    "final_MCC"
   ]
  }
 ],
 "metadata": {
  "kernelspec": {
   "display_name": "Python 3 (ipykernel)",
   "language": "python",
   "name": "python3"
  },
  "language_info": {
   "codemirror_mode": {
    "name": "ipython",
    "version": 3
   },
   "file_extension": ".py",
   "mimetype": "text/x-python",
   "name": "python",
   "nbconvert_exporter": "python",
   "pygments_lexer": "ipython3",
   "version": "3.9.7"
  }
 },
 "nbformat": 4,
 "nbformat_minor": 5
}
